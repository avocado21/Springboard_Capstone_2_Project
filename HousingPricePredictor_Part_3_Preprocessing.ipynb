{
 "cells": [
  {
   "cell_type": "code",
   "execution_count": 1,
   "id": "62a1cc56",
   "metadata": {},
   "outputs": [],
   "source": [
    "#Import necessary libraries and packages\n",
    "\n",
    "import matplotlib.pyplot as plt\n",
    "import numpy as np \n",
    "import pandas as pd \n",
    "from sklearn import preprocessing\n",
    "from sklearn.preprocessing import StandardScaler \n",
    "from sklearn.model_selection import train_test_split\n",
    "import warnings\n",
    "warnings.filterwarnings('ignore') # Removes deprecation warnings"
   ]
  },
  {
   "cell_type": "code",
   "execution_count": 2,
   "id": "1ef6c5ee",
   "metadata": {},
   "outputs": [
    {
     "data": {
      "text/plain": [
       "(7855, 16)"
      ]
     },
     "execution_count": 2,
     "metadata": {},
     "output_type": "execute_result"
    }
   ],
   "source": [
    "# read the housing_data_clean.csv file into a dataframe\n",
    "df = pd.read_csv('housing_data_clean.csv')\n",
    "df.head()\n",
    "df.shape"
   ]
  },
  {
   "cell_type": "code",
   "execution_count": 3,
   "id": "48821b17",
   "metadata": {},
   "outputs": [
    {
     "data": {
      "text/plain": [
       "APN                         object\n",
       "Address - Street Number      int64\n",
       "Address - Street Name       object\n",
       "Address - Zip Code           int64\n",
       "Bedrooms                     int64\n",
       "Bathrooms                    int64\n",
       "MTRO Square Footage          int64\n",
       "Lot Size - Acres           float64\n",
       "Year Built                   int64\n",
       "DOM                          int64\n",
       "CDOM                         int64\n",
       "Original Price               int64\n",
       "List Price                   int64\n",
       "Close Price                  int64\n",
       "Close Date                  object\n",
       "DPRIME                     float64\n",
       "dtype: object"
      ]
     },
     "execution_count": 3,
     "metadata": {},
     "output_type": "execute_result"
    }
   ],
   "source": [
    "#Review features\n",
    "df.dtypes"
   ]
  },
  {
   "cell_type": "code",
   "execution_count": 4,
   "id": "16965614",
   "metadata": {},
   "outputs": [
    {
     "data": {
      "text/html": [
       "<div>\n",
       "<style scoped>\n",
       "    .dataframe tbody tr th:only-of-type {\n",
       "        vertical-align: middle;\n",
       "    }\n",
       "\n",
       "    .dataframe tbody tr th {\n",
       "        vertical-align: top;\n",
       "    }\n",
       "\n",
       "    .dataframe thead th {\n",
       "        text-align: right;\n",
       "    }\n",
       "</style>\n",
       "<table border=\"1\" class=\"dataframe\">\n",
       "  <thead>\n",
       "    <tr style=\"text-align: right;\">\n",
       "      <th></th>\n",
       "      <th>Bedrooms</th>\n",
       "      <th>Bathrooms</th>\n",
       "      <th>MTRO Square Footage</th>\n",
       "      <th>Lot Size - Acres</th>\n",
       "      <th>Year Built</th>\n",
       "      <th>CDOM</th>\n",
       "      <th>Close Price</th>\n",
       "      <th>Close Date</th>\n",
       "      <th>DPRIME</th>\n",
       "    </tr>\n",
       "  </thead>\n",
       "  <tbody>\n",
       "    <tr>\n",
       "      <th>0</th>\n",
       "      <td>4</td>\n",
       "      <td>3</td>\n",
       "      <td>2123</td>\n",
       "      <td>0.21</td>\n",
       "      <td>1962</td>\n",
       "      <td>28</td>\n",
       "      <td>235000</td>\n",
       "      <td>2000-05-08</td>\n",
       "      <td>9.0</td>\n",
       "    </tr>\n",
       "    <tr>\n",
       "      <th>1</th>\n",
       "      <td>3</td>\n",
       "      <td>2</td>\n",
       "      <td>1832</td>\n",
       "      <td>0.21</td>\n",
       "      <td>1984</td>\n",
       "      <td>10</td>\n",
       "      <td>278000</td>\n",
       "      <td>2000-05-08</td>\n",
       "      <td>9.0</td>\n",
       "    </tr>\n",
       "    <tr>\n",
       "      <th>2</th>\n",
       "      <td>3</td>\n",
       "      <td>3</td>\n",
       "      <td>1480</td>\n",
       "      <td>0.19</td>\n",
       "      <td>1992</td>\n",
       "      <td>399</td>\n",
       "      <td>157500</td>\n",
       "      <td>2000-07-05</td>\n",
       "      <td>9.5</td>\n",
       "    </tr>\n",
       "    <tr>\n",
       "      <th>3</th>\n",
       "      <td>4</td>\n",
       "      <td>2</td>\n",
       "      <td>1994</td>\n",
       "      <td>0.17</td>\n",
       "      <td>1991</td>\n",
       "      <td>80</td>\n",
       "      <td>217000</td>\n",
       "      <td>2000-07-05</td>\n",
       "      <td>9.5</td>\n",
       "    </tr>\n",
       "    <tr>\n",
       "      <th>4</th>\n",
       "      <td>3</td>\n",
       "      <td>2</td>\n",
       "      <td>1451</td>\n",
       "      <td>0.23</td>\n",
       "      <td>1980</td>\n",
       "      <td>46</td>\n",
       "      <td>174000</td>\n",
       "      <td>2000-07-05</td>\n",
       "      <td>9.5</td>\n",
       "    </tr>\n",
       "  </tbody>\n",
       "</table>\n",
       "</div>"
      ],
      "text/plain": [
       "   Bedrooms  Bathrooms  MTRO Square Footage  Lot Size - Acres  Year Built  \\\n",
       "0         4          3                 2123              0.21        1962   \n",
       "1         3          2                 1832              0.21        1984   \n",
       "2         3          3                 1480              0.19        1992   \n",
       "3         4          2                 1994              0.17        1991   \n",
       "4         3          2                 1451              0.23        1980   \n",
       "\n",
       "   CDOM  Close Price  Close Date  DPRIME  \n",
       "0    28       235000  2000-05-08     9.0  \n",
       "1    10       278000  2000-05-08     9.0  \n",
       "2   399       157500  2000-07-05     9.5  \n",
       "3    80       217000  2000-07-05     9.5  \n",
       "4    46       174000  2000-07-05     9.5  "
      ]
     },
     "execution_count": 4,
     "metadata": {},
     "output_type": "execute_result"
    }
   ],
   "source": [
    "#Remove APN, Street Number, Street Name, Zip (since all zipcodes are 95608), DOM, \n",
    "#Original Price, and List Price\n",
    "columns_to_drop = ['APN', 'Address - Street Number', 'Address - Street Name', 'Address - Zip Code','DOM',\n",
    "                  'Original Price', 'List Price']\n",
    "\n",
    "df2 = df.drop(columns = columns_to_drop)\n",
    "df2.head()"
   ]
  },
  {
   "cell_type": "code",
   "execution_count": 5,
   "id": "537b103e",
   "metadata": {},
   "outputs": [
    {
     "data": {
      "text/plain": [
       "(7855, 9)"
      ]
     },
     "execution_count": 5,
     "metadata": {},
     "output_type": "execute_result"
    }
   ],
   "source": [
    "df2.shape"
   ]
  },
  {
   "cell_type": "markdown",
   "id": "1b6e2284",
   "metadata": {},
   "source": [
    "#### 1. Creating dummy features\n",
    "Since all the data is in numerical form, creating dummy features isn't necessary."
   ]
  },
  {
   "cell_type": "markdown",
   "id": "065a1e5c",
   "metadata": {},
   "source": [
    "#### 2. Scale standardization"
   ]
  },
  {
   "cell_type": "code",
   "execution_count": 6,
   "id": "8f44c508",
   "metadata": {},
   "outputs": [
    {
     "data": {
      "text/plain": [
       "array([[<AxesSubplot:title={'center':'Bedrooms'}>,\n",
       "        <AxesSubplot:title={'center':'Bathrooms'}>,\n",
       "        <AxesSubplot:title={'center':'MTRO Square Footage'}>],\n",
       "       [<AxesSubplot:title={'center':'Lot Size - Acres'}>,\n",
       "        <AxesSubplot:title={'center':'Year Built'}>,\n",
       "        <AxesSubplot:title={'center':'CDOM'}>],\n",
       "       [<AxesSubplot:title={'center':'Close Price'}>,\n",
       "        <AxesSubplot:title={'center':'DPRIME'}>, <AxesSubplot:>]],\n",
       "      dtype=object)"
      ]
     },
     "execution_count": 6,
     "metadata": {},
     "output_type": "execute_result"
    },
    {
     "data": {
      "image/png": "[encoded data removed]",
      "text/plain": [
       "<Figure size 720x720 with 9 Axes>"
      ]
     },
     "metadata": {
      "needs_background": "light"
     },
     "output_type": "display_data"
    }
   ],
   "source": [
    "df2.hist(figsize=(10,10))"
   ]
  },
  {
   "cell_type": "code",
   "execution_count": 7,
   "id": "c9cb63c2",
   "metadata": {},
   "outputs": [
    {
     "data": {
      "text/plain": [
       "(7851, 9)"
      ]
     },
     "execution_count": 7,
     "metadata": {},
     "output_type": "execute_result"
    }
   ],
   "source": [
    "#There's an obvious error in 'Year Built' which we'll need to fix before moving on\n",
    "df2 = df2[df2['Year Built'] <= 2023]\n",
    "df2.shape"
   ]
  },
  {
   "cell_type": "code",
   "execution_count": 8,
   "id": "e0fe3631",
   "metadata": {},
   "outputs": [
    {
     "data": {
      "text/plain": [
       "<AxesSubplot:>"
      ]
     },
     "execution_count": 8,
     "metadata": {},
     "output_type": "execute_result"
    },
    {
     "data": {
      "image/png": "[encoded data removed]",
      "text/plain": [
       "<Figure size 720x720 with 1 Axes>"
      ]
     },
     "metadata": {
      "needs_background": "light"
     },
     "output_type": "display_data"
    }
   ],
   "source": [
    "df2['Year Built'].hist(figsize=(10,10))"
   ]
  },
  {
   "cell_type": "code",
   "execution_count": 9,
   "id": "ef6d5933",
   "metadata": {},
   "outputs": [
    {
     "data": {
      "text/html": [
       "<div>\n",
       "<style scoped>\n",
       "    .dataframe tbody tr th:only-of-type {\n",
       "        vertical-align: middle;\n",
       "    }\n",
       "\n",
       "    .dataframe tbody tr th {\n",
       "        vertical-align: top;\n",
       "    }\n",
       "\n",
       "    .dataframe thead th {\n",
       "        text-align: right;\n",
       "    }\n",
       "</style>\n",
       "<table border=\"1\" class=\"dataframe\">\n",
       "  <thead>\n",
       "    <tr style=\"text-align: right;\">\n",
       "      <th></th>\n",
       "      <th>Bedrooms</th>\n",
       "      <th>Bathrooms</th>\n",
       "      <th>MTRO Square Footage</th>\n",
       "      <th>Lot Size - Acres</th>\n",
       "      <th>Year Built</th>\n",
       "      <th>CDOM</th>\n",
       "      <th>Close Price</th>\n",
       "      <th>DPRIME</th>\n",
       "    </tr>\n",
       "  </thead>\n",
       "  <tbody>\n",
       "    <tr>\n",
       "      <th>0</th>\n",
       "      <td>1.122315</td>\n",
       "      <td>1.281382</td>\n",
       "      <td>0.770919</td>\n",
       "      <td>-0.444996</td>\n",
       "      <td>-0.374170</td>\n",
       "      <td>-0.275733</td>\n",
       "      <td>-0.817493</td>\n",
       "      <td>2.514028</td>\n",
       "    </tr>\n",
       "    <tr>\n",
       "      <th>1</th>\n",
       "      <td>-0.576084</td>\n",
       "      <td>-0.380625</td>\n",
       "      <td>0.195728</td>\n",
       "      <td>-0.444996</td>\n",
       "      <td>1.225797</td>\n",
       "      <td>-0.540477</td>\n",
       "      <td>-0.533417</td>\n",
       "      <td>2.514028</td>\n",
       "    </tr>\n",
       "    <tr>\n",
       "      <th>2</th>\n",
       "      <td>-0.576084</td>\n",
       "      <td>1.281382</td>\n",
       "      <td>-0.500037</td>\n",
       "      <td>-1.174818</td>\n",
       "      <td>1.807603</td>\n",
       "      <td>5.180931</td>\n",
       "      <td>-1.329490</td>\n",
       "      <td>2.799603</td>\n",
       "    </tr>\n",
       "    <tr>\n",
       "      <th>3</th>\n",
       "      <td>1.122315</td>\n",
       "      <td>-0.380625</td>\n",
       "      <td>0.515937</td>\n",
       "      <td>-1.904640</td>\n",
       "      <td>1.734877</td>\n",
       "      <td>0.489082</td>\n",
       "      <td>-0.936408</td>\n",
       "      <td>2.799603</td>\n",
       "    </tr>\n",
       "    <tr>\n",
       "      <th>4</th>\n",
       "      <td>-0.576084</td>\n",
       "      <td>-0.380625</td>\n",
       "      <td>-0.557358</td>\n",
       "      <td>0.284826</td>\n",
       "      <td>0.934893</td>\n",
       "      <td>-0.010989</td>\n",
       "      <td>-1.220485</td>\n",
       "      <td>2.799603</td>\n",
       "    </tr>\n",
       "  </tbody>\n",
       "</table>\n",
       "</div>"
      ],
      "text/plain": [
       "   Bedrooms  Bathrooms  MTRO Square Footage  Lot Size - Acres  Year Built  \\\n",
       "0  1.122315   1.281382             0.770919         -0.444996   -0.374170   \n",
       "1 -0.576084  -0.380625             0.195728         -0.444996    1.225797   \n",
       "2 -0.576084   1.281382            -0.500037         -1.174818    1.807603   \n",
       "3  1.122315  -0.380625             0.515937         -1.904640    1.734877   \n",
       "4 -0.576084  -0.380625            -0.557358          0.284826    0.934893   \n",
       "\n",
       "       CDOM  Close Price    DPRIME  \n",
       "0 -0.275733    -0.817493  2.514028  \n",
       "1 -0.540477    -0.533417  2.514028  \n",
       "2  5.180931    -1.329490  2.799603  \n",
       "3  0.489082    -0.936408  2.799603  \n",
       "4 -0.010989    -1.220485  2.799603  "
      ]
     },
     "execution_count": 9,
     "metadata": {},
     "output_type": "execute_result"
    }
   ],
   "source": [
    "# Select numeric features to standardize\n",
    "numeric_features = df2.select_dtypes(include=['float64', 'int64'])\n",
    "\n",
    "# Initialize the StandardScaler\n",
    "scaler = StandardScaler()\n",
    "\n",
    "# Fit the scaler on the selected features and transform them\n",
    "scaled_features = scaler.fit_transform(numeric_features)\n",
    "\n",
    "# Create a new DataFrame with the scaled features\n",
    "scaled_df = pd.DataFrame(scaled_features, columns=numeric_features.columns)\n",
    "\n",
    "scaled_df.head()"
   ]
  },
  {
   "cell_type": "code",
   "execution_count": 10,
   "id": "d5648dbd",
   "metadata": {},
   "outputs": [
    {
     "data": {
      "text/plain": [
       "(7851, 8)"
      ]
     },
     "execution_count": 10,
     "metadata": {},
     "output_type": "execute_result"
    }
   ],
   "source": [
    "scaled_df.shape"
   ]
  },
  {
   "cell_type": "code",
   "execution_count": 11,
   "id": "226de770",
   "metadata": {},
   "outputs": [
    {
     "data": {
      "text/html": [
       "<div>\n",
       "<style scoped>\n",
       "    .dataframe tbody tr th:only-of-type {\n",
       "        vertical-align: middle;\n",
       "    }\n",
       "\n",
       "    .dataframe tbody tr th {\n",
       "        vertical-align: top;\n",
       "    }\n",
       "\n",
       "    .dataframe thead th {\n",
       "        text-align: right;\n",
       "    }\n",
       "</style>\n",
       "<table border=\"1\" class=\"dataframe\">\n",
       "  <thead>\n",
       "    <tr style=\"text-align: right;\">\n",
       "      <th></th>\n",
       "      <th>Bedrooms</th>\n",
       "      <th>Bathrooms</th>\n",
       "      <th>MTRO Square Footage</th>\n",
       "      <th>Lot Size - Acres</th>\n",
       "      <th>Year Built</th>\n",
       "      <th>CDOM</th>\n",
       "      <th>Close Price</th>\n",
       "      <th>DPRIME</th>\n",
       "      <th>Close Date</th>\n",
       "    </tr>\n",
       "  </thead>\n",
       "  <tbody>\n",
       "    <tr>\n",
       "      <th>0</th>\n",
       "      <td>1.122315</td>\n",
       "      <td>1.281382</td>\n",
       "      <td>0.770919</td>\n",
       "      <td>-0.444996</td>\n",
       "      <td>-0.374170</td>\n",
       "      <td>-0.275733</td>\n",
       "      <td>-0.817493</td>\n",
       "      <td>2.514028</td>\n",
       "      <td>2000-05-08</td>\n",
       "    </tr>\n",
       "    <tr>\n",
       "      <th>1</th>\n",
       "      <td>-0.576084</td>\n",
       "      <td>-0.380625</td>\n",
       "      <td>0.195728</td>\n",
       "      <td>-0.444996</td>\n",
       "      <td>1.225797</td>\n",
       "      <td>-0.540477</td>\n",
       "      <td>-0.533417</td>\n",
       "      <td>2.514028</td>\n",
       "      <td>2000-05-08</td>\n",
       "    </tr>\n",
       "    <tr>\n",
       "      <th>2</th>\n",
       "      <td>-0.576084</td>\n",
       "      <td>1.281382</td>\n",
       "      <td>-0.500037</td>\n",
       "      <td>-1.174818</td>\n",
       "      <td>1.807603</td>\n",
       "      <td>5.180931</td>\n",
       "      <td>-1.329490</td>\n",
       "      <td>2.799603</td>\n",
       "      <td>2000-07-05</td>\n",
       "    </tr>\n",
       "    <tr>\n",
       "      <th>3</th>\n",
       "      <td>1.122315</td>\n",
       "      <td>-0.380625</td>\n",
       "      <td>0.515937</td>\n",
       "      <td>-1.904640</td>\n",
       "      <td>1.734877</td>\n",
       "      <td>0.489082</td>\n",
       "      <td>-0.936408</td>\n",
       "      <td>2.799603</td>\n",
       "      <td>2000-07-05</td>\n",
       "    </tr>\n",
       "    <tr>\n",
       "      <th>4</th>\n",
       "      <td>-0.576084</td>\n",
       "      <td>-0.380625</td>\n",
       "      <td>-0.557358</td>\n",
       "      <td>0.284826</td>\n",
       "      <td>0.934893</td>\n",
       "      <td>-0.010989</td>\n",
       "      <td>-1.220485</td>\n",
       "      <td>2.799603</td>\n",
       "      <td>2000-07-05</td>\n",
       "    </tr>\n",
       "  </tbody>\n",
       "</table>\n",
       "</div>"
      ],
      "text/plain": [
       "   Bedrooms  Bathrooms  MTRO Square Footage  Lot Size - Acres  Year Built  \\\n",
       "0  1.122315   1.281382             0.770919         -0.444996   -0.374170   \n",
       "1 -0.576084  -0.380625             0.195728         -0.444996    1.225797   \n",
       "2 -0.576084   1.281382            -0.500037         -1.174818    1.807603   \n",
       "3  1.122315  -0.380625             0.515937         -1.904640    1.734877   \n",
       "4 -0.576084  -0.380625            -0.557358          0.284826    0.934893   \n",
       "\n",
       "       CDOM  Close Price    DPRIME  Close Date  \n",
       "0 -0.275733    -0.817493  2.514028  2000-05-08  \n",
       "1 -0.540477    -0.533417  2.514028  2000-05-08  \n",
       "2  5.180931    -1.329490  2.799603  2000-07-05  \n",
       "3  0.489082    -0.936408  2.799603  2000-07-05  \n",
       "4 -0.010989    -1.220485  2.799603  2000-07-05  "
      ]
     },
     "execution_count": 11,
     "metadata": {},
     "output_type": "execute_result"
    }
   ],
   "source": [
    "#The standardized dataframe doesn't include 'Close Date' column because it's a date-time feature (not numeric)\n",
    "#I need to concatenate the 'Close Date' column with the standardized features\n",
    "\n",
    "scaled_df = pd.concat([scaled_df, df2['Close Date']], axis=1)\n",
    "scaled_df.head()"
   ]
  },
  {
   "cell_type": "code",
   "execution_count": 12,
   "id": "1bccfd97",
   "metadata": {},
   "outputs": [
    {
     "data": {
      "text/plain": [
       "(7855, 9)"
      ]
     },
     "execution_count": 12,
     "metadata": {},
     "output_type": "execute_result"
    }
   ],
   "source": [
    "scaled_df.shape"
   ]
  },
  {
   "cell_type": "markdown",
   "id": "1d7407ae",
   "metadata": {},
   "source": [
    "#### ***Questions for mentor\n",
    "1. Why are rows being added back into the scaled dataframe here? It must have something to do with concatenating the 'Close Date' column from df2, but it doesn't make sense to me.\n",
    "2. Why are we standardizing the data BEFORE splitting it? I'm following the instructions, but it doesn't seem right. "
   ]
  },
  {
   "cell_type": "markdown",
   "id": "f0ce9d4b",
   "metadata": {},
   "source": [
    "#### 3. Split data into training and testing subsets"
   ]
  },
  {
   "cell_type": "code",
   "execution_count": 13,
   "id": "294ca953",
   "metadata": {},
   "outputs": [],
   "source": [
    "#First we need to move our target feature 'Close Price' to the last column.\n",
    "# Get the 'Close Price' column\n",
    "close_price_column = scaled_df.pop('Close Price')\n",
    "\n",
    "# Add the 'Close Price' column back to the DataFrame in the last position\n",
    "scaled_df['Close Price'] = close_price_column\n",
    "\n",
    "# Now, the 'Close Price' column is in the last position"
   ]
  },
  {
   "cell_type": "code",
   "execution_count": 14,
   "id": "7ee1168a",
   "metadata": {},
   "outputs": [
    {
     "data": {
      "text/html": [
       "<div>\n",
       "<style scoped>\n",
       "    .dataframe tbody tr th:only-of-type {\n",
       "        vertical-align: middle;\n",
       "    }\n",
       "\n",
       "    .dataframe tbody tr th {\n",
       "        vertical-align: top;\n",
       "    }\n",
       "\n",
       "    .dataframe thead th {\n",
       "        text-align: right;\n",
       "    }\n",
       "</style>\n",
       "<table border=\"1\" class=\"dataframe\">\n",
       "  <thead>\n",
       "    <tr style=\"text-align: right;\">\n",
       "      <th></th>\n",
       "      <th>Bedrooms</th>\n",
       "      <th>Bathrooms</th>\n",
       "      <th>MTRO Square Footage</th>\n",
       "      <th>Lot Size - Acres</th>\n",
       "      <th>Year Built</th>\n",
       "      <th>CDOM</th>\n",
       "      <th>DPRIME</th>\n",
       "      <th>Close Date</th>\n",
       "      <th>Close Price</th>\n",
       "    </tr>\n",
       "  </thead>\n",
       "  <tbody>\n",
       "    <tr>\n",
       "      <th>0</th>\n",
       "      <td>1.122315</td>\n",
       "      <td>1.281382</td>\n",
       "      <td>0.770919</td>\n",
       "      <td>-0.444996</td>\n",
       "      <td>-0.374170</td>\n",
       "      <td>-0.275733</td>\n",
       "      <td>2.514028</td>\n",
       "      <td>2000-05-08</td>\n",
       "      <td>-0.817493</td>\n",
       "    </tr>\n",
       "    <tr>\n",
       "      <th>1</th>\n",
       "      <td>-0.576084</td>\n",
       "      <td>-0.380625</td>\n",
       "      <td>0.195728</td>\n",
       "      <td>-0.444996</td>\n",
       "      <td>1.225797</td>\n",
       "      <td>-0.540477</td>\n",
       "      <td>2.514028</td>\n",
       "      <td>2000-05-08</td>\n",
       "      <td>-0.533417</td>\n",
       "    </tr>\n",
       "    <tr>\n",
       "      <th>2</th>\n",
       "      <td>-0.576084</td>\n",
       "      <td>1.281382</td>\n",
       "      <td>-0.500037</td>\n",
       "      <td>-1.174818</td>\n",
       "      <td>1.807603</td>\n",
       "      <td>5.180931</td>\n",
       "      <td>2.799603</td>\n",
       "      <td>2000-07-05</td>\n",
       "      <td>-1.329490</td>\n",
       "    </tr>\n",
       "    <tr>\n",
       "      <th>3</th>\n",
       "      <td>1.122315</td>\n",
       "      <td>-0.380625</td>\n",
       "      <td>0.515937</td>\n",
       "      <td>-1.904640</td>\n",
       "      <td>1.734877</td>\n",
       "      <td>0.489082</td>\n",
       "      <td>2.799603</td>\n",
       "      <td>2000-07-05</td>\n",
       "      <td>-0.936408</td>\n",
       "    </tr>\n",
       "    <tr>\n",
       "      <th>4</th>\n",
       "      <td>-0.576084</td>\n",
       "      <td>-0.380625</td>\n",
       "      <td>-0.557358</td>\n",
       "      <td>0.284826</td>\n",
       "      <td>0.934893</td>\n",
       "      <td>-0.010989</td>\n",
       "      <td>2.799603</td>\n",
       "      <td>2000-07-05</td>\n",
       "      <td>-1.220485</td>\n",
       "    </tr>\n",
       "  </tbody>\n",
       "</table>\n",
       "</div>"
      ],
      "text/plain": [
       "   Bedrooms  Bathrooms  MTRO Square Footage  Lot Size - Acres  Year Built  \\\n",
       "0  1.122315   1.281382             0.770919         -0.444996   -0.374170   \n",
       "1 -0.576084  -0.380625             0.195728         -0.444996    1.225797   \n",
       "2 -0.576084   1.281382            -0.500037         -1.174818    1.807603   \n",
       "3  1.122315  -0.380625             0.515937         -1.904640    1.734877   \n",
       "4 -0.576084  -0.380625            -0.557358          0.284826    0.934893   \n",
       "\n",
       "       CDOM    DPRIME  Close Date  Close Price  \n",
       "0 -0.275733  2.514028  2000-05-08    -0.817493  \n",
       "1 -0.540477  2.514028  2000-05-08    -0.533417  \n",
       "2  5.180931  2.799603  2000-07-05    -1.329490  \n",
       "3  0.489082  2.799603  2000-07-05    -0.936408  \n",
       "4 -0.010989  2.799603  2000-07-05    -1.220485  "
      ]
     },
     "execution_count": 14,
     "metadata": {},
     "output_type": "execute_result"
    }
   ],
   "source": [
    "scaled_df.head()"
   ]
  },
  {
   "cell_type": "code",
   "execution_count": 15,
   "id": "c87d82d5",
   "metadata": {},
   "outputs": [],
   "source": [
    "#Specifying X and y for splitting data\n",
    "X = scaled_df.drop('Close Price', axis=1)\n",
    "y = scaled_df['Close Price']\n",
    "\n",
    "#Split the data into training and testing sets\n",
    "X_train, X_test, y_train, y_test = train_test_split(X, y, test_size=0.2, random_state=42)\n",
    "\n"
   ]
  },
  {
   "cell_type": "code",
   "execution_count": null,
   "id": "c02330cf",
   "metadata": {},
   "outputs": [],
   "source": [
    "#Save data (commenting this out until I meet with mentor to answer my 2 questions)\n",
    "#X_train.to_csv('X_train.csv', index=False)\n",
    "#X_test.to_csv('X_test.csv', index=False)\n",
    "#y_train.to_csv('y_train.csv', index=False)\n",
    "#y_test.to_csv('y_test.csv', index=False)\n"
   ]
  }
 ],
 "metadata": {
  "kernelspec": {
   "display_name": "Python 3 (ipykernel)",
   "language": "python",
   "name": "python3"
  },
  "language_info": {
   "codemirror_mode": {
    "name": "ipython",
    "version": 3
   },
   "file_extension": ".py",
   "mimetype": "text/x-python",
   "name": "python",
   "nbconvert_exporter": "python",
   "pygments_lexer": "ipython3",
   "version": "3.9.12"
  }
 },
 "nbformat": 4,
 "nbformat_minor": 5
}
